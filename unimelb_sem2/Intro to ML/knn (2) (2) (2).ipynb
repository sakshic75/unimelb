{
 "cells": [
  {
   "cell_type": "markdown",
   "metadata": {
    "colab_type": "text",
    "id": "W_oI1y6-cY4d"
   },
   "source": [
    "# Assignment 1: K-Nearest Neighbors Classification (15 marks)"
   ]
  },
  {
   "cell_type": "markdown",
   "metadata": {
    "colab_type": "text",
    "collapsed": true,
    "id": "XIBjsAqjcY4e"
   },
   "source": [
    "Student Name: Sakshi Chandel\n",
    "\n",
    "Student ID: 1124298"
   ]
  },
  {
   "cell_type": "markdown",
   "metadata": {
    "colab_type": "text",
    "id": "1Huv7ALVcY4f"
   },
   "source": [
    "## General info"
   ]
  },
  {
   "cell_type": "markdown",
   "metadata": {
    "colab_type": "text",
    "id": "p07JVvoScY4g"
   },
   "source": [
    "<b>Due date</b>: Friday, 19 March 2021 5pm\n",
    "\n",
    "<b>Submission method</b>: Canvas submission\n",
    "\n",
    "<b>Submission materials</b>: completed copy of this iPython notebook\n",
    "\n",
    "<b>Late submissions</b>: -10% per day (both week and weekend days counted)\n",
    "\n",
    "<b>Marks</b>: 15% of mark for class. \n",
    "\n",
    "<b>Materials</b>: See [Using Jupyter Notebook and Python page](https://canvas.lms.unimelb.edu.au/courses/105477/pages/python-and-jupyter-notebooks?module_item_id=2613813) on Canvas (under Modules> Coding Resources) for information on the basic setup required for this class, including an iPython notebook viewer and the python packages NLTK, Numpy, Scipy, Matplotlib, Scikit-Learn, and Gensim. In particular, if you are not using a lab computer which already has it installed, we recommend installing all the data for NLTK, since you will need various parts of it to complete this assignment. Deep learning libraries such as keras and pytorch are also allowed.  You can also use any Python built-in packages, but do not use any other 3rd party packages (the packages listed above are all fine to use); if your iPython notebook doesn't run on the marker's machine, you will lose marks. <b> You should use Python 3</b>.  \n",
    "\n",
    "\n",
    "<b>Evaluation</b>: Your iPython notebook should run end-to-end without any errors in a reasonable amount of time, and you must follow all instructions provided below, including specific implementation requirements and instructions for what needs to be printed (please avoid printing output we don't ask for). You should edit the sections below where requested, but leave the rest of the code as is. You should leave the output from running your code in the iPython notebook you submit, to assist with marking. The amount each section is worth is given in parenthesis after the instructions. \n",
    "\n",
    "You will be marked not only on the correctness of your methods, but also the quality and efficency of your code: in particular, you should be careful to use Python built-in functions and operators when appropriate and pick descriptive variable names that adhere to <a href=\"https://www.python.org/dev/peps/pep-0008/\">Python style requirements</a>. If you think it might be unclear what you are doing, you should comment your code to help the marker make sense of it. We reserve the right to deduct up to 2 marks for unreadable or exessively inefficient code.\n",
    "\n",
    "<b>Updates</b>: Any major changes to the assignment will be announced via Canvas. Minor changes and clarifications will be announced on the discussion board (Piazza -> Assignment_1); we recommend you check it regularly.\n",
    "\n",
    "<b>Academic misconduct</b>: For most people, collaboration will form a natural part of the undertaking of this homework, and we encourge you to discuss it in general terms with other students. However, this ultimately is still an individual task, and so reuse of code or other instances of clear influence will be considered cheating. Please check the <a href=\"https://canvas.lms.unimelb.edu.au/courses/105477/modules\">CIS Academic Honesty training</a> for more information. We will be checking submissions for originality and will invoke the University’s <a href=\"http://academichonesty.unimelb.edu.au/policy.html\">Academic Misconduct policy</a> where inappropriate levels of collusion or plagiarism are deemed to have taken place."
   ]
  },
  {
   "cell_type": "markdown",
   "metadata": {
    "colab_type": "text",
    "id": "wseHhYGScY4g"
   },
   "source": [
    "## Overview"
   ]
  },
  {
   "cell_type": "markdown",
   "metadata": {
    "colab_type": "text",
    "id": "wH9UvbJTcY4h"
   },
   "source": [
    "In this assignment, you will implement the K-nearest neighbor (KNN) classification algorithm and apply it to a real-world machine learning data set. In particular we will classify zoo animals into seven animal categories. \n",
    "\n",
    "Firstly, you will read in the dataset into a train and a test set (Q1). Secondly, you will implement different distance functions (Q2). Thirdly, you will implement a KNN classifier (Q3). You will apply and evaluate your classifier on the data set exploring different parameters (Q4, Q5). Finally, you will critically discuss your results (Q6)."
   ]
  },
  {
   "cell_type": "markdown",
   "metadata": {},
   "source": [
    "### Question 1: Loading the data (2.0 marks)\n",
    "\n",
    "**Instructions:** For this assignment we will develop a K-Nearest Neighbors (KNN) classifier to classify animals in the zoo into pre-defined categories of animals, namely\n",
    "```\n",
    "1: mammal\n",
    "2: bird\n",
    "3: reptile\n",
    "4: fish\n",
    "5: amphibian\n",
    "6: insect\n",
    "7: invertebrate\n",
    "```\n",
    "\n",
    "We use a data set of zoo animals from the UCI Machine learning repository.\n",
    "\n",
    "The original data can be found here: https://archive.ics.uci.edu/ml/datasets/Zoo. \n",
    "\n",
    "The dataset consists of 101 instances. Each instance corresponds to an animal which has a unique identifier (the name of the animal; first field) and is characterized with 16 features:\n",
    "\n",
    "```\n",
    "   1. hair\t\t    Boolean\n",
    "   2. feathers\t\tBoolean\n",
    "   3. eggs\t\t    Boolean\n",
    "   4. milk\t\t    Boolean\n",
    "   5. airborne\t\tBoolean\n",
    "   6. aquatic\t\tBoolean\n",
    "   7. predator\t\tBoolean\n",
    "   8. toothed\t\tBoolean\n",
    "   9. backbone\t\tBoolean\n",
    "  10. breathes\t\tBoolean\n",
    "  11. venomous\t\tBoolean\n",
    "  12. fins\t\t    Boolean\n",
    "  13. legs\t\t    Numeric (set of values: {0,2,4,5,6,8})\n",
    "  14. tail\t\t    Boolean\n",
    "  15. domestic\t\tBoolean\n",
    "  16. catsize\t\tBoolean\n",
    "```\n",
    "\n",
    "You need to first obtain this dataset, which is on Canvas (assignment 1). The files we will be using are called *zoo.data* and *zoo.labels*. Make sure the files are saved in the same folder as this notebook.\n",
    "\n",
    "Both files are in comma-separated value format.\n",
    "\n",
    "*zoo.features* contains 101 instances, one line per instance. The first field is the unique instance identifier (name of animals). The following fields contain the 16 features, as described above.\n",
    "\n",
    "*zoo.labels* contains the gold labels (i.e., one of the seven classes above), for one instance per line. Again, the first field is the instance identifier, and the second field the instance label.\n",
    "\n",
    "**Task**: Read the two files  \n",
    "1. create a **training_feature** set (list of features for the first 90 instances in the zoo.* files) and a **training_label** set (list of labels for the corresponding). \n",
    "2. create a **test_feature** set (list of features of the remaining instances in the zoo.* files) and a **test_label** set (list of labels for the corresponding). \n",
    "\n",
    "**Check**: Use the assertion statements in *\"For your testing\"* to validate your code."
   ]
  },
  {
   "cell_type": "code",
   "execution_count": 53,
   "metadata": {},
   "outputs": [],
   "source": [
    "data = open(\"zoo.features\", 'r').readlines()\n",
    "gold = open(\"zoo.labels\", 'r').readlines()\n",
    "\n",
    "train_features = []\n",
    "train_labels   = []\n",
    "test_features = []\n",
    "test_labels   = []\n",
    "\n",
    "data_train= data[:90]\n",
    "data_test= data[90:]\n",
    "\n",
    "label_train=gold[:90]\n",
    "label_test= gold[90:]\n",
    "\n",
    "\n",
    "###########################\n",
    "## YOUR CODE BEGINS HERE\n",
    "###########################\n",
    "def string_feature_to_numeric_feature(str_values):\n",
    "    numeric_values = []                  # initialize our new value list\n",
    "    for str_value in str_values:\n",
    "        num_value = int(str_value);        # Python way of saying: 'give me the position of str_value in list value_set'\n",
    "        numeric_values.append(num_value);     # append the numeric value to the new value list\n",
    "    return numeric_values\n",
    "\n",
    "\n",
    "for d in data_train:\n",
    "    d = d.strip();                  #remove all leading and trailing whitespace (i.e., the newline symbol '\\n')\n",
    "    d = d.split(\",\");                # split each instance at each comma, into separate values\n",
    "    d=d[1:] ;                         # store the 16 fields as the instance's features starting with 1\n",
    "    train_feature=string_feature_to_numeric_feature(d)\n",
    "    train_features.append(train_feature)\n",
    "\n",
    "for l in data_test:\n",
    "    l = l.strip();                       #remove all leading and trailing whitespace (i.e., the newline symbol '\\n')\n",
    "    l = l.split(\",\");                     # split each instance at each comma, into separate values\n",
    "    l=l[1:] ;                             # store the 16 fields as the instance's features starting with 1\n",
    "    test_feature=string_feature_to_numeric_feature(l)\n",
    "    test_features.append(test_feature)\n",
    "\n",
    "for t in label_train:\n",
    "    t = t.strip();\n",
    "    t= t.split(\",\");\n",
    "    t=t[1:]                                #store the label at position 1\n",
    "    train_label=string_feature_to_numeric_feature(t)\n",
    "    train_labels.append(int(train_label[0]))\n",
    "\n",
    "for k in label_test:\n",
    "    k = k.strip();\n",
    "    k= k.split(\",\");\n",
    "    k=k[1:] \n",
    "    test_label=string_feature_to_numeric_feature(k)\n",
    "    test_labels.append(int(test_label[0]))\n",
    "    \n",
    "###########################\n",
    "## YOUR CODE BEGINS HERE\n",
    "###########################\n",
    "\n",
    "\n"
   ]
  },
  {
   "cell_type": "markdown",
   "metadata": {},
   "source": [
    "<b>For your testing</b>"
   ]
  },
  {
   "cell_type": "code",
   "execution_count": 54,
   "metadata": {},
   "outputs": [],
   "source": [
    "assert len(train_features) == len(train_labels)\n",
    "assert len(train_features[0])==len(train_features[-1])\n",
    "assert train_features[2][12]==0 and train_labels[2]==4"
   ]
  },
  {
   "cell_type": "markdown",
   "metadata": {
    "colab_type": "text",
    "collapsed": true,
    "id": "V2OlvNAicY4i"
   },
   "source": [
    "### Question 2: Distance Functions (2.0 marks)\n",
    "\n",
    "<b>Instructions</b>: Implement the four distance functions specified below. Use <b>only</b> the library imported below, i.e., <b>do not</b> use implementations from any other Python library. \n",
    "\n",
    "1. Eucledian distance\n",
    "2. Cosine distance\n",
    "3. Hamming distance \n",
    "4. Jaccard distance \n",
    "\n",
    "Each distance function takes as input\n",
    "- Two feature vectors\n",
    "\n",
    "and returns as output\n",
    "- The distance between the two feature vectors (float)\n",
    "\n",
    "**Note** for the purpose of this assignment we consider the numeric feature (legs) to be discretized already with each individual value belonging constituting a separate class."
   ]
  },
  {
   "cell_type": "code",
   "execution_count": 55,
   "metadata": {
    "colab": {
     "base_uri": "https://localhost:8080/",
     "height": 139
    },
    "colab_type": "code",
    "executionInfo": {
     "elapsed": 10593,
     "status": "ok",
     "timestamp": 1588139440049,
     "user": {
      "displayName": "Jey Han Lau",
      "photoUrl": "",
      "userId": "09065329932778503205"
     },
     "user_tz": -600
    },
    "id": "szPlY9PIcY4j",
    "outputId": "218560c5-6e80-4a8b-bfaf-5cb46b90f34c",
    "scrolled": true
   },
   "outputs": [],
   "source": [
    "import math\n",
    "\n",
    "#########################\n",
    "# Your answer BEGINS HERE\n",
    "#########################\n",
    "   \n",
    "\n",
    "def convert_legs_value_to_boolean(x):\n",
    "    legs=[0,0,0,0,0,0]            # boolean for legs 0,2,4,5,6,8  \n",
    "    if(x==0):\n",
    "        legs[0]=1;\n",
    "    if(x==2):\n",
    "        legs[1]=1;\n",
    "    if(x==4):\n",
    "        legs[2]=1;\n",
    "    if(x==5):\n",
    "        legs[3]=1;\n",
    "    if(x==6):\n",
    "        legs[4]=1;\n",
    "    if(x==8):\n",
    "        legs[5]=1;\n",
    "    return legs;\n",
    "    \n",
    "def eucledian_distance(fv1, fv2):\n",
    "    # insert code here\n",
    "    sum=0\n",
    "    for a,b in zip(range(len(fv1)),range(len(fv2))):\n",
    "        if(a!=12 and b!=12):               # if the feature is not legs\n",
    "            sum+=(fv1[a]-fv2[b])*(fv1[a]-fv2[b])\n",
    "        else:                              # if feature is of \"legs\"\n",
    "            legs_fv1=convert_legs_value_to_boolean(fv1[a]);\n",
    "            legs_fv2=convert_legs_value_to_boolean(fv2[b]);\n",
    "            for a,b in zip(legs_fv1,legs_fv2):\n",
    "                sum+=(a-b)*(a-b)\n",
    "    distance=math.sqrt(sum)\n",
    "    return distance\n",
    "\n",
    "def cosine_distance(fv1, fv2):\n",
    "     # insert code here\n",
    "    addab,addaa,addbb=0,0,0\n",
    "    for i in range(len(fv1)):\n",
    "        if(i!=12):               # if the feature is not legs\n",
    "            a=fv1[i];b=fv2[i] \n",
    "            addaa+=a*a          #sum of square of features of vector 1\n",
    "            addbb+=b*b          #sum of square of features of vector 2 \n",
    "            addab+=a*b          #sum of the product of two features of vectors \n",
    "        else:                   # if the feature is legs\n",
    "            legs_fv1=convert_legs_value_to_boolean(fv1[i]);\n",
    "            legs_fv2=convert_legs_value_to_boolean(fv2[i]);\n",
    "            for i in range(len(legs_fv1)):\n",
    "                a=legs_fv1[i];b=legs_fv2[i] \n",
    "                addaa+=a*a\n",
    "                addbb+=b*b\n",
    "                addab+=a*b\n",
    "                \n",
    "                  \n",
    "            \n",
    "    return 1- (addab/math.sqrt(addaa*addbb))\n",
    "            \n",
    "    \n",
    "def hamming_distance(fv1, fv2):\n",
    "    # insert code \n",
    "    hamm=0;\n",
    "    for a,b in zip(fv1,fv2):\n",
    "        if a!=b:\n",
    "            hamm+=1;\n",
    "    \n",
    "    return hamm;\n",
    "\n",
    "def jaccard_distance(fv1, fv2):\n",
    "    # insert code here\n",
    "    intersection=0;\n",
    "    union=0;     \n",
    "    \n",
    "    for x, y in zip (range(len(fv1)), range(len(fv2))) :\n",
    "        if x!=12 and y!=12 :            # if feature is not legs\n",
    "            if(fv1[x]==fv2[y] and (fv1[x]==1 and fv2[y]==1)):\n",
    "                    intersection+=1 ;\n",
    "                    union+=1;\n",
    "            elif (fv1[x]!=fv2[y] and (fv1[x]==1 or fv2[y]==1)) :       \n",
    "                    union+=1;                                          \n",
    "                \n",
    "           \n",
    "        if (x==12):                    # if feature is legs\n",
    "            legs_v1=convert_legs_value_to_boolean(fv1);\n",
    "            legs_v2=convert_legs_value_to_boolean(fv2);\n",
    "            for l,j in zip(legs_v1,legs_v2):\n",
    "                if(l==j and (l==1 and j==1)):  \n",
    "                    intersection+=1; # if number of legs are same\n",
    "                    union+=1;\n",
    "                elif(l!=j and (l==1 or j==1)):\n",
    "                    union+=1;             #taking only one known feature count in union of two sets \n",
    "                         \n",
    "                    \n",
    "    return 1- (intersection/union)\n",
    "                \n",
    "\n",
    "#########################\n",
    "# Your answer ENDS HERE\n",
    "#########################\n",
    "\n",
    "\n",
    "\n"
   ]
  },
  {
   "cell_type": "markdown",
   "metadata": {
    "colab_type": "text",
    "id": "JTt3T9fycY4p"
   },
   "source": [
    "For your testing :\n",
    "assert round(eucledian_distance([1,0],[0.5,1]),2)==1.12 \n",
    "assert jaccard_distance([1,1,1,1], [0,1,0,0])==0.75"
   ]
  },
  {
   "cell_type": "markdown",
   "metadata": {
    "colab_type": "text",
    "id": "zknFIccAcY40"
   },
   "source": [
    "### Question 3: KNN Classifier (4.0 marks)\n",
    "\n",
    "<b>Instructions</b>: Here, you implement your KNN classifier. It takes as input \n",
    "- training data features\n",
    "- training data labels\n",
    "- test data features\n",
    "- parameter K\n",
    "- distance function(s) based on which nearest neighbors will be identified\n",
    "\n",
    "It returns as output \n",
    "- the predicted labels for the test data\n",
    "\n",
    "**Voting stragegy** Your classifier will use majority voting (i.e., no distance weighting)\n",
    "\n",
    "**You should implement the classifier from scratch yourself**, i.e., <b> you must not</b> use an existing implementation in any Python library.\n",
    "\n",
    "**Ties**. Ties may occur when computing the K nearest neighbors, or when predicting the class based on the neighborhood. You may deal with ties whichever way you want (as long as you still use the requested distance functions)."
   ]
  },
  {
   "cell_type": "code",
   "execution_count": 56,
   "metadata": {
    "colab": {},
    "colab_type": "code",
    "id": "PCkSP91lcY4q"
   },
   "outputs": [],
   "source": [
    "assert round(eucledian_distance([1,0],[0.5,1]),2)==1.12 \n",
    "assert jaccard_distance([1,1,1,1], [0,1,0,0])==0.75\n",
    "\n"
   ]
  },
  {
   "cell_type": "code",
   "execution_count": 57,
   "metadata": {
    "colab": {
     "base_uri": "https://localhost:8080/",
     "height": 71
    },
    "colab_type": "code",
    "executionInfo": {
     "elapsed": 919,
     "status": "ok",
     "timestamp": 1588139482398,
     "user": {
      "displayName": "Jey Han Lau",
      "photoUrl": "",
      "userId": "09065329932778503205"
     },
     "user_tz": -600
    },
    "id": "W6rdnrOXcY41",
    "outputId": "8d2391db-d5c0-4ea2-ea83-850e79bffd5c",
    "scrolled": false
   },
   "outputs": [],
   "source": [
    "def KNN(train_features, train_labels, test_features, k, dist_fun):\n",
    "    \n",
    "    predictions = []\n",
    "   \n",
    "    \n",
    "   \n",
    "    \n",
    "    ###########################\n",
    "    ## YOUR CODE BEGINS HERE\n",
    "    ###########################\n",
    "    def majority_voting(l):\n",
    "        return max(set(l),key=l.count)    # returns label with the most occurrence (if two labels have same max occurence then returns relative to the min index)\n",
    "\n",
    "    def sort_distance(a):\n",
    "        li=[];\n",
    "        for i in range(len(a)):\n",
    "            li.append([a[i],i])\n",
    "        li.sort()\n",
    "        sorted_index=[]\n",
    "        for x in li : \n",
    "            sorted_index.append(x[1])\n",
    "        return sorted_index        # returns list of indexes of sorted distances in ascending order\n",
    "            \n",
    "    \n",
    "    for test_feature in test_features:      # for each test_feature predicting the label\n",
    "        distances=[]\n",
    "        for train_feature in train_features  :\n",
    "            cal_dis=\"dist_fun(test_feature,train_feature)\"     # call the distance functions \n",
    "            distance=eval(cal_dis)\n",
    "            distances.append(round(distance,2))\n",
    "        sorted_distance_indexes= sort_distance(distances)      # sort the distances and returning their indexes\n",
    "        sorted_distance_indexes=sorted_distance_indexes[:k]           # keeping only k shortest distance indexes\n",
    "        prediction=[]\n",
    "        labels=[]\n",
    "        for p in sorted_distance_indexes:\n",
    "            labels.append(train_labels[p])                   # finding the label of that particular train_feature at index p and adding to list labels  \n",
    "        \n",
    "        prediction.append(majority_voting(labels))             # using majority voting by checking the majority labels (majority voting)\n",
    "        predictions.append(prediction[0])                     # keeping list of all predictions of test_features\n",
    "    return predictions     #contains list of predictions of each test_feature\n",
    "\n",
    "\n",
    "    \n",
    "        \n",
    "        \n",
    "        \n",
    "   \n",
    "    \n",
    "    \n",
    "        \n",
    "\n",
    "\n",
    "\n",
    "    ###########################\n",
    "    ## YOUR CODE BEGINS HERE\n",
    "    ###########################\n",
    "\n",
    "\n"
   ]
  },
  {
   "cell_type": "markdown",
   "metadata": {
    "colab_type": "text",
    "id": "cWgLNH3LcY45"
   },
   "source": [
    "<b>For your testing:</b>"
   ]
  },
  {
   "cell_type": "code",
   "execution_count": 58,
   "metadata": {},
   "outputs": [],
   "source": [
    "assert KNN([[1,1],[5,5],[1,2]], [1,0,1], [[1,1]], 1, eucledian_distance) == [1]"
   ]
  },
  {
   "cell_type": "markdown",
   "metadata": {
    "colab": {},
    "colab_type": "code",
    "id": "th1NNkYZcY45"
   },
   "source": [
    "### Question 4: Evaluation (1.0 marks)\n",
    "**Instructions:** Write a function that computes the \"accuracy\" of your classifier. Given a set of predicted lables and a set of gold labels, it returns the fraction of correct labels over all predicted labels. \n",
    "\n",
    "**Example**: `The gold truth labels for four test instances are [1, 1, 1, 1]. A system predicted the labels [0, 1, 0, 0] for the same 4 instances. The accuracy of the system is 1/4 = 0.25\n",
    "`\n",
    "\n",
    "Your function will take as input \n",
    "- gold labels\n",
    "- predicted labels\n",
    "\n",
    "It returns as output\n",
    "- the accuracy value (float).\n"
   ]
  },
  {
   "cell_type": "code",
   "execution_count": 59,
   "metadata": {
    "colab_type": "text",
    "id": "F3V5AkC8cY48"
   },
   "outputs": [],
   "source": [
    "def accuracy(predict, gold):\n",
    "    \n",
    "    ###########################\n",
    "    ## YOUR CODE BEGINS HERE\n",
    "    ###########################\n",
    "    accurate=0;\n",
    "    for p,g in zip(predict,gold):\n",
    "        if p==g:\n",
    "            accurate+=1;\n",
    "    \n",
    "    accuracy=round((accurate/len(predict)),2)\n",
    "    return accuracy;\n",
    "\n",
    "\n",
    "    ###########################\n",
    "    ## YOUR CODE BEGINS HERE\n",
    "    ###########################\n",
    "\n",
    "    "
   ]
  },
  {
   "cell_type": "markdown",
   "metadata": {
    "colab_type": "text",
    "id": "xUwPHXMmcY49"
   },
   "source": [
    "<b>For your testing:</b>"
   ]
  },
  {
   "cell_type": "code",
   "execution_count": 60,
   "metadata": {
    "colab": {},
    "colab_type": "code",
    "id": "8hL-EnT-cY49"
   },
   "outputs": [],
   "source": [
    "assert accuracy([1, 1, 1, 1], [0, 1, 0, 1])==0.5"
   ]
  },
  {
   "cell_type": "markdown",
   "metadata": {},
   "source": [
    "### Question 5: Applying your KNN classifiers to the Zoo Dataset (3.0 marks)\n",
    "\n",
    "**Using the functions you have implemented above, please**\n",
    "\n",
    "<b> 1. </b>\n",
    "For each of the distance functions you implemented in Question 2, construct four KNN classifiers with K=1, K=5, K=25, K=55. You will create a total of 16 (4 distance functions x 4 K values) classifiers.\n",
    "\n",
    "<b> 2. </b>\n",
    "Compute the test accuracy for each model"
   ]
  },
  {
   "cell_type": "code",
   "execution_count": 61,
   "metadata": {},
   "outputs": [
    {
     "name": "stdout",
     "output_type": "stream",
     "text": [
      "Euclidean\n",
      "0.82\n",
      "0.73\n",
      "0.73\n",
      "0.45\n",
      "Cosine\n",
      "0.82\n",
      "0.73\n",
      "0.64\n",
      "0.45\n",
      "Jaccard\n",
      "0.82\n",
      "0.82\n",
      "0.64\n",
      "0.45\n",
      "Hamming\n",
      "0.82\n",
      "0.73\n",
      "0.73\n",
      "0.55\n"
     ]
    }
   ],
   "source": [
    "########################\n",
    "# Your code STARTS HERE\n",
    "########################\n",
    "\n",
    "# 1. Predict test labels with each KNN classifier\n",
    "\n",
    "\n",
    "\n",
    "predicted_label_euc_1=KNN(train_features, train_labels, test_features, 1, eucledian_distance)\n",
    "predicted_label_euc_5=KNN(train_features, train_labels, test_features, 5,eucledian_distance)\n",
    "predicted_label_euc_25=KNN(train_features, train_labels, test_features, 25, eucledian_distance)\n",
    "predicted_label_euc_55=KNN(train_features, train_labels, test_features, 55, eucledian_distance)\n",
    "\n",
    "predicted_label_cos_1=KNN(train_features, train_labels, test_features, 1, cosine_distance)\n",
    "predicted_label_cos_5=KNN(train_features, train_labels, test_features, 5, cosine_distance)\n",
    "predicted_label_cos_25=KNN(train_features, train_labels, test_features, 25, cosine_distance)\n",
    "predicted_label_cos_55=KNN(train_features, train_labels, test_features, 55, cosine_distance)\n",
    "\n",
    "predicted_label_jac_1=KNN(train_features, train_labels, test_features, 1, jaccard_distance)\n",
    "predicted_label_jac_5=KNN(train_features, train_labels, test_features, 5, jaccard_distance)\n",
    "predicted_label_jac_25=KNN(train_features, train_labels, test_features, 25, jaccard_distance)\n",
    "predicted_label_jac_55=KNN(train_features, train_labels, test_features, 55, jaccard_distance)\n",
    "\n",
    "predicted_label_ham_1=KNN(train_features, train_labels, test_features, 1, hamming_distance)\n",
    "predicted_label_ham_5=KNN(train_features, train_labels, test_features, 5, hamming_distance)\n",
    "predicted_label_ham_25=KNN(train_features, train_labels, test_features, 25, hamming_distance)\n",
    "predicted_label_ham_55=KNN(train_features, train_labels, test_features, 55, hamming_distance)\n",
    "\n",
    "\n",
    "\n",
    "\n",
    "# 2. Compute the accuracy scores \n",
    "\n",
    "accuracy_knn_euc_1= accuracy(predicted_label_euc_1,test_labels)\n",
    "accuracy_knn_euc_5= accuracy(predicted_label_euc_5,test_labels)\n",
    "accuracy_knn_euc_25= accuracy(predicted_label_euc_25,test_labels)\n",
    "accuracy_knn_euc_55= accuracy(predicted_label_euc_55,test_labels)\n",
    "\n",
    "accuracy_knn_cos_1 = accuracy(predicted_label_cos_1,test_labels)\n",
    "accuracy_knn_cos_5 = accuracy(predicted_label_cos_5,test_labels)\n",
    "accuracy_knn_cos_25 = accuracy(predicted_label_cos_25,test_labels)\n",
    "accuracy_knn_cos_55 = accuracy(predicted_label_cos_55,test_labels)\n",
    "\n",
    "accuracy_knn_jac_1= accuracy(predicted_label_jac_1,test_labels)\n",
    "accuracy_knn_jac_5= accuracy(predicted_label_jac_5,test_labels)\n",
    "accuracy_knn_jac_25= accuracy(predicted_label_jac_25,test_labels)\n",
    "accuracy_knn_jac_55= accuracy(predicted_label_jac_55,test_labels)\n",
    "\n",
    "accuracy_knn_ham_1= accuracy(predicted_label_ham_1,test_labels)\n",
    "accuracy_knn_ham_5= accuracy(predicted_label_ham_5,test_labels)\n",
    "accuracy_knn_ham_25= accuracy(predicted_label_ham_25,test_labels)\n",
    "accuracy_knn_ham_55= accuracy(predicted_label_ham_55,test_labels)\n",
    "\n",
    "\n",
    "\n",
    "\n",
    "########################\n",
    "# Your code ENDS HERE\n",
    "########################\n",
    "\n",
    "\n",
    "print(\"Euclidean\")\n",
    "print(accuracy_knn_euc_1)\n",
    "print(accuracy_knn_euc_5)\n",
    "print(accuracy_knn_euc_25)\n",
    "print(accuracy_knn_euc_55)\n",
    "print(\"Cosine\")\n",
    "print(accuracy_knn_cos_1)\n",
    "print(accuracy_knn_cos_5)\n",
    "print(accuracy_knn_cos_25)\n",
    "print(accuracy_knn_cos_55)\n",
    "print(\"Jaccard\")\n",
    "print(accuracy_knn_jac_1)\n",
    "print(accuracy_knn_jac_5)\n",
    "print(accuracy_knn_jac_25)\n",
    "print(accuracy_knn_jac_55)\n",
    "print(\"Hamming\")\n",
    "print(accuracy_knn_ham_1)\n",
    "print(accuracy_knn_ham_5)\n",
    "print(accuracy_knn_ham_25)\n",
    "print(accuracy_knn_ham_55)"
   ]
  },
  {
   "cell_type": "raw",
   "metadata": {},
   "source": [
    "### Question 6: Discussion (3.0 marks)\n",
    "1. (a) Which parameter K resulted in the best performance? (b) Why? (c) What could be done to improve those classifiers that are currently performing poorly?\n",
    "\n",
    "2. The results of KNN with Euclidean distance and KNN with Cosine distance are remarkably similar. Why is that so? Referring to the definitions of the distance functions.\n",
    "\n",
    "<b>Each question should be answered in no more than 2-3 sentences.</b>"
   ]
  },
  {
   "cell_type": "markdown",
   "metadata": {},
   "source": [
    "1(a).For testing i used the test_features data (ref ques 1) , accuracy rate for all the classifier with K values with all the distance functions were quite good but for the classifer with K = 1 worked the best for all distances .\n",
    "\n",
    " \n",
    "1(b). I think because with the classifier K=1 we are taking the taking the closest value to the test_feature data and hence giving the accurate results without able to rely on majority voting(in case of k>1).\n",
    "\n",
    "1(c). For classifiers that are currently performing poorly we can change the voting strategy from majority voting to other like inverse distance or inverse linear distance because that strategy will be focused mainly on the distance and how close the values are with the data set.\n",
    "\n",
    "2.Yes,I noticed the same that the results of KNN with Euclidean distance and KNN with Cosine distance are remarkably similar.\n",
    "I predict when vectors are in l2 normalized form(distance from origin and distance from vector space both are equal a) then cosine distance and euclidean distance can be proportional  \n"
   ]
  },
  {
   "cell_type": "code",
   "execution_count": null,
   "metadata": {},
   "outputs": [],
   "source": []
  },
  {
   "cell_type": "code",
   "execution_count": null,
   "metadata": {},
   "outputs": [],
   "source": []
  },
  {
   "cell_type": "code",
   "execution_count": null,
   "metadata": {},
   "outputs": [],
   "source": []
  },
  {
   "cell_type": "code",
   "execution_count": null,
   "metadata": {},
   "outputs": [],
   "source": []
  },
  {
   "cell_type": "code",
   "execution_count": null,
   "metadata": {},
   "outputs": [],
   "source": []
  },
  {
   "cell_type": "code",
   "execution_count": null,
   "metadata": {},
   "outputs": [],
   "source": []
  },
  {
   "cell_type": "code",
   "execution_count": null,
   "metadata": {},
   "outputs": [],
   "source": []
  }
 ],
 "metadata": {
  "accelerator": "GPU",
  "anaconda-cloud": {},
  "colab": {
   "collapsed_sections": [],
   "name": "word-similarity.ipynb",
   "provenance": [],
   "toc_visible": true
  },
  "kernelspec": {
   "display_name": "Python 3",
   "language": "python",
   "name": "python3"
  },
  "language_info": {
   "codemirror_mode": {
    "name": "ipython",
    "version": 3
   },
   "file_extension": ".py",
   "mimetype": "text/x-python",
   "name": "python",
   "nbconvert_exporter": "python",
   "pygments_lexer": "ipython3",
   "version": "3.9.2"
  }
 },
 "nbformat": 4,
 "nbformat_minor": 1
}
